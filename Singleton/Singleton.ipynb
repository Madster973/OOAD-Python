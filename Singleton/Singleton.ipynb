{
 "cells": [
  {
   "cell_type": "markdown",
   "id": "5ec5cb48",
   "metadata": {},
   "source": [
    "🧪 Step 1: Simple Task — Logger Class\n",
    "\n",
    "Create a basic Logger class in Python. This class should:\n",
    "\n",
    "Have a method to log(message: str)\n",
    "\n",
    "Store logs in a list (in memory)\n",
    "\n",
    "Provide a method to get_logs() to view all messages"
   ]
  },
  {
   "cell_type": "code",
   "execution_count": 17,
   "id": "68ce752d",
   "metadata": {},
   "outputs": [
    {
     "name": "stdout",
     "output_type": "stream",
     "text": [
      "Log Entry from A\n",
      "Log Entry from B\n",
      "130069686970720 130069686970720\n"
     ]
    }
   ],
   "source": [
    "class UniversalLogger:\n",
    "    _instance = None\n",
    "\n",
    "    def __init__(self):\n",
    "        self._logs = []\n",
    "    \n",
    "    def __new__(cls):\n",
    "        if cls._instance is None:\n",
    "            cls._instance = super().__new__(cls)\n",
    "        return cls._instance\n",
    "\n",
    "    \n",
    "    def log(self, message):\n",
    "        self._logs.append(message)\n",
    "    \n",
    "    def get_logs(self):\n",
    "        for log in self._logs:\n",
    "            print(log)\n",
    "\n",
    "logA = UniversalLogger()\n",
    "logB = UniversalLogger()\n",
    "\n",
    "logA.log(\"Log Entry from A\")\n",
    "logB.log(\"Log Entry from B\")\n",
    "\n",
    "logA.get_logs()\n",
    "print(id(logA), id(logB))\n",
    "\n",
    "\n"
   ]
  },
  {
   "cell_type": "code",
   "execution_count": 15,
   "id": "3eb13837",
   "metadata": {},
   "outputs": [],
   "source": [
    "logA._instance"
   ]
  },
  {
   "cell_type": "code",
   "execution_count": 16,
   "id": "e7b60a71",
   "metadata": {},
   "outputs": [],
   "source": [
    "logB._instance"
   ]
  },
  {
   "cell_type": "markdown",
   "id": "e0746102",
   "metadata": {},
   "source": [
    "Making __init__ privatish"
   ]
  },
  {
   "cell_type": "code",
   "execution_count": 37,
   "id": "9c3e49cd",
   "metadata": {},
   "outputs": [
    {
     "name": "stdout",
     "output_type": "stream",
     "text": [
      "Log Entry from A\n",
      "Log Entry from B\n",
      "130069685847008 130069685847008\n"
     ]
    }
   ],
   "source": [
    "class UniversalLogger:\n",
    "    _instance = None\n",
    "\n",
    "    def __init__(self):\n",
    "        if not hasattr(self, \"_logs\"):\n",
    "            self._logs = []\n",
    "        raise Exception(\"Use get_instance() to get the singleton instance\")\n",
    "    \n",
    "    @classmethod\n",
    "    def get_instance(cls):\n",
    "        if cls._instance is None:\n",
    "            cls._instance = super().__new__(cls)\n",
    "            cls._instance._logs = []\n",
    "        return cls._instance\n",
    "\n",
    "    \n",
    "    # def __new__(cls):\n",
    "    #     if cls._instance is None:\n",
    "    #         cls._instance = super().__new__(cls)\n",
    "    #     return cls._instance\n",
    "\n",
    "    \n",
    "    def log(self, message):\n",
    "        self._logs.append(message)\n",
    "    \n",
    "    def get_logs(self):\n",
    "        for log in self._logs:\n",
    "            print(log)\n",
    "\n",
    "# logA = UniversalLogger()\n",
    "logA = UniversalLogger.get_instance()\n",
    "# logB = UniversalLogger()\n",
    "logB = UniversalLogger.get_instance()\n",
    "\n",
    "\n",
    "logA.log(\"Log Entry from A\")\n",
    "logB.log(\"Log Entry from B\")\n",
    "\n",
    "logA.get_logs()\n",
    "print(id(logA), id(logB))\n",
    "\n",
    "\n"
   ]
  },
  {
   "cell_type": "code",
   "execution_count": 28,
   "id": "58036569",
   "metadata": {},
   "outputs": [
    {
     "name": "stdout",
     "output_type": "stream",
     "text": [
      "Accessing class attribute from class method: I am a class attribute\n",
      "Class attribute updated to: New Class Value\n",
      "Accessing class attribute from class method: New Class Value\n",
      "Class attribute updated to: Another New Class Value\n",
      "Another New Class Value\n"
     ]
    }
   ],
   "source": [
    "class MyClass:\n",
    "    class_attribute = \"I am a class attribute\"\n",
    "\n",
    "    def __init__(self, instance_attribute):\n",
    "        self.instance_attribute = instance_attribute\n",
    "\n",
    "    @classmethod\n",
    "    def class_method_example(cls, new_value):\n",
    "        print(f\"Accessing class attribute from class method: {cls.class_attribute}\")\n",
    "        cls.class_attribute = new_value\n",
    "        print(f\"Class attribute updated to: {cls.class_attribute}\")\n",
    "\n",
    "# Calling the class method directly on the class\n",
    "MyClass.class_method_example(\"New Class Value\")\n",
    "\n",
    "# Creating an instance and calling the class method on the instance\n",
    "obj = MyClass(\"Instance Value\")\n",
    "obj.class_method_example(\"Another New Class Value\")\n",
    "\n",
    "# Verify the class attribute has been modified\n",
    "print(MyClass.class_attribute)"
   ]
  },
  {
   "cell_type": "markdown",
   "id": "ab20cf83",
   "metadata": {},
   "source": [
    "Singleton using Metaclasses"
   ]
  },
  {
   "cell_type": "code",
   "execution_count": null,
   "id": "40b99f53",
   "metadata": {},
   "outputs": [
    {
     "name": "stdout",
     "output_type": "stream",
     "text": [
      "Creating instance of Singleton and accessing This is Class Variable\n",
      "Singleton instance initialized\n",
      "Instance created: <__main__.Singleton object at 0x764c356dbe30> and cls_variable is now: Modified Class Variable\n"
     ]
    }
   ],
   "source": [
    "class SingletonMeta(type):\n",
    "    cls_variable = \"This is Class Variable\"\n",
    "\n",
    "    def __call__(cls):\n",
    "        print(f\"Creating instance of {cls.__name__} and accessing {cls.cls_variable}\")\n",
    "        instance = super().__call__()\n",
    "        cls.cls_variable = \"Modified Class Variable\"\n",
    "        print(f\"Instance created: {instance} and cls_variable is now: {cls.cls_variable}\")\n",
    "        return instance\n",
    "\n",
    "class Singleton(metaclass=SingletonMeta):\n",
    "    def __init__(self):\n",
    "        print(\"Singleton instance initialized\")\n",
    "\n",
    "singleton1 = Singleton()\n"
   ]
  },
  {
   "cell_type": "code",
   "execution_count": 47,
   "id": "4d763fec",
   "metadata": {},
   "outputs": [
    {
     "name": "stdout",
     "output_type": "stream",
     "text": [
      "Log Entry from A\n",
      "Log Entry from B\n",
      "130069686969856 130069686969856\n"
     ]
    }
   ],
   "source": [
    "class UniversalLoggerMeta(type):\n",
    "    _instances = {}\n",
    "    \n",
    "    def __call__(cls):\n",
    "        if cls not in cls._instances:\n",
    "            instance = super().__call__()\n",
    "            cls._instances[cls] = instance\n",
    "        return cls._instances[cls]\n",
    "    \n",
    "class UniversalLogger(metaclass=UniversalLoggerMeta):\n",
    "\n",
    "    def __init__(self):\n",
    "        self._logs = []\n",
    "    \n",
    "    \n",
    "    def log(self, message):\n",
    "        self._logs.append(message)\n",
    "    \n",
    "    def get_logs(self):\n",
    "        for log in self._logs:\n",
    "            print(log)\n",
    "\n",
    "logA = UniversalLogger()\n",
    "logB = UniversalLogger()\n",
    "\n",
    "\n",
    "logA.log(\"Log Entry from A\")\n",
    "logB.log(\"Log Entry from B\")\n",
    "\n",
    "logA.get_logs()\n",
    "print(id(logA), id(logB))\n"
   ]
  },
  {
   "cell_type": "code",
   "execution_count": 48,
   "id": "0491c8f1",
   "metadata": {},
   "outputs": [
    {
     "data": {
      "text/plain": [
       "{__main__.UniversalLogger: <__main__.UniversalLogger at 0x764c357ce600>}"
      ]
     },
     "execution_count": 48,
     "metadata": {},
     "output_type": "execute_result"
    }
   ],
   "source": [
    "UniversalLoggerMeta._instances"
   ]
  }
 ],
 "metadata": {
  "kernelspec": {
   "display_name": "3.12.4",
   "language": "python",
   "name": "python3"
  },
  "language_info": {
   "codemirror_mode": {
    "name": "ipython",
    "version": 3
   },
   "file_extension": ".py",
   "mimetype": "text/x-python",
   "name": "python",
   "nbconvert_exporter": "python",
   "pygments_lexer": "ipython3",
   "version": "3.12.4"
  }
 },
 "nbformat": 4,
 "nbformat_minor": 5
}
